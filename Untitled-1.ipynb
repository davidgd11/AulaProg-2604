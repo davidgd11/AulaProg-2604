{
 "cells": [
  {
   "cell_type": "code",
   "execution_count": 4,
   "metadata": {},
   "outputs": [
    {
     "data": {
      "text/plain": [
       "1"
      ]
     },
     "execution_count": 4,
     "metadata": {},
     "output_type": "execute_result"
    }
   ],
   "source": [
    "# exemplo 1\n",
    "dicionario = {'a': 1, 'b': 2, 'c': 3}\n",
    "\n",
    "valor = dicionario.get('a')\n",
    "valor"
   ]
  },
  {
   "cell_type": "code",
   "execution_count": 33,
   "metadata": {},
   "outputs": [
    {
     "data": {
      "text/plain": [
       "'\\nif quantidade < esperado: \\n    print (producao abaixo do esperado para o turno)\\n\\nadicionar_producao(\"turno_1\", 500)\\nadicionar_producao(\"turno_2\", 600)\\nadicionar_producao(\"turno_3\", 450)\\nverificar_producao_abaixo_do_esperado(500)\\n'"
      ]
     },
     "execution_count": 33,
     "metadata": {},
     "output_type": "execute_result"
    }
   ],
   "source": [
    "# exemplo 2\n",
    "lista = ['a', 'b', 'b', 'c', 'a', 'c', 'a']\n",
    "\n",
    "\n",
    "# exemplo 3 - Crie um programa para contagem de palavras em uma lista \n",
    "lista1 = ['no failure', 'overstrain failure', 'overstrain failure', 'no failure',\n",
    "             'power failure', 'no failure', 'no failure', 'power failure',\n",
    "             'power failure', 'overstrain failure', 'overstrain failure']\n",
    "\n",
    "\n",
    "# exemplo 4 - Crie um programa para busca de produtos usando função def e get. \n",
    "produtos = {'001': 'camiseta', '002': 'calça', '003': 'meia'}\n",
    "\n",
    "\n",
    "# exemplo 5 - Crie uma função para calcular a média de notas dos alunos. Utilize a função def e items(). \n",
    "notas_alunos = {'João': [8,7,9], 'Maria': [6,7,8], 'David':[8,6,7]}\n",
    "\n",
    "\n",
    "#Exemplo 6 \n",
    "\n",
    "\n",
    "#Exemplo 7 - Crie um programa para controle de estoque. Deve aparecer as funções adicionar_item, atualizar_quantidade, verificar disponibilidade\n",
    "\"\"\"\n",
    "Funções\n",
    "adicionar_item\n",
    "atualizar_quantidade\n",
    "verificar disponibilidade\n",
    "\"\"\"\n",
    "\"Pregos\", 100\n",
    "\"Porcas\", 50\n",
    "\"Pregos\"\n",
    "\n",
    "\n",
    "#Exemplo 8 - Crie um programa para monitoramento de produção criando três funções: adicionar_produção, \n",
    "# calcular_media e verificar_produção abaixo_do_esperado\n",
    "\"\"\"\n",
    "Funções \n",
    "adicionar_producao\n",
    "calcular_media_diaria\n",
    "verificar_producao abaixo_do_esperado\n",
    "\n",
    "if quantidade < esperado: \n",
    "    print (producao abaixo do esperado para o turno)\n",
    "\n",
    "adicionar_producao(\"turno_1\", 500)\n",
    "adicionar_producao(\"turno_2\", 600)\n",
    "adicionar_producao(\"turno_3\", 450)\n",
    "verificar_producao_abaixo_do_esperado(500)\n",
    "Adota a média 450\n",
    "\"\"\""
   ]
  },
  {
   "cell_type": "code",
   "execution_count": 21,
   "metadata": {},
   "outputs": [
    {
     "name": "stdout",
     "output_type": "stream",
     "text": [
      "Contagem de elementos: \n",
      "a: 3\n",
      "b: 2\n",
      "c: 2\n"
     ]
    }
   ],
   "source": [
    "# exemplo 2\n",
    "lista = ['a', 'b', 'b', 'c', 'a', 'c', 'a']\n",
    "contagem = {}\n",
    "\n",
    "for elemento in lista: \n",
    "    contagem[elemento] = contagem.get(elemento, 0) + 1\n",
    "\n",
    "print(\"Contagem de elementos: \")\n",
    "\n",
    "for chave, valor in contagem.items():\n",
    "    print(f'{chave}: {valor}')\n"
   ]
  },
  {
   "cell_type": "code",
   "execution_count": 22,
   "metadata": {},
   "outputs": [
    {
     "name": "stdout",
     "output_type": "stream",
     "text": [
      "n: 8\n",
      "o: 11\n",
      " : 11\n",
      "f: 11\n",
      "a: 15\n",
      "i: 15\n",
      "l: 11\n",
      "u: 11\n",
      "r: 22\n",
      "e: 18\n",
      "v: 4\n",
      "s: 4\n",
      "t: 4\n",
      "p: 3\n",
      "w: 3\n"
     ]
    }
   ],
   "source": [
    "# Exemplo 3\n",
    "lista1 = ['no failure', 'overstrain failure', 'overstrain failure', 'no failure',\n",
    "             'power failure', 'no failure', 'no failure', 'power failure',\n",
    "             'power failure', 'overstrain failure', 'overstrain failure']\n",
    "\n",
    "def contar_palavras(lista_palavra):\n",
    "    contagem = {}\n",
    "    for palavra in lista1: \n",
    "        palavra.split(\" \")\n",
    "        for elemento in palavra:\n",
    "            contagem[elemento] = contagem.get(elemento, 0) +1\n",
    "\n",
    "    for chave, valor in contagem.items():\n",
    "        print(f'{chave}: {valor}')\n",
    "\n",
    "contar_palavras(lista)"
   ]
  },
  {
   "cell_type": "code",
   "execution_count": 25,
   "metadata": {},
   "outputs": [
    {
     "data": {
      "text/plain": [
       "'calça'"
      ]
     },
     "execution_count": 25,
     "metadata": {},
     "output_type": "execute_result"
    }
   ],
   "source": [
    "# Exemplo 4\n",
    "produtos = {'001': 'camiseta', '002': 'calça', '003': 'meia'}\n",
    "\n",
    "def buscar_produto(codigo, dicionario_produto):\n",
    "    return dicionario_produto.get(codigo, \"Produto não encontrado\")\n",
    "\n",
    "buscar_produto('002', produtos)"
   ]
  },
  {
   "cell_type": "code",
   "execution_count": 27,
   "metadata": {},
   "outputs": [
    {
     "name": "stdout",
     "output_type": "stream",
     "text": [
      "{'João': 8.0, 'Maria': 7.0, 'David': 8.0}\n"
     ]
    }
   ],
   "source": [
    "#Exemplo 5\n",
    "\n",
    "def calcular_media(notas_alunos):\n",
    "    medias ={}\n",
    "    for aluno, notas in notas_alunos.items():\n",
    "        media = sum(notas) / len(notas)\n",
    "        medias[aluno] = media\n",
    "    return medias\n",
    "\n",
    "notas_alunos = {'João': [8,7,9], 'Maria': [6,7,8], 'David':[8,9,7]}\n",
    "\n",
    "print(calcular_media(notas_alunos))"
   ]
  },
  {
   "cell_type": "code",
   "execution_count": 30,
   "metadata": {},
   "outputs": [
    {
     "name": "stdout",
     "output_type": "stream",
     "text": [
      "{'a': 1, 'b': 5, 'c': 4}\n"
     ]
    }
   ],
   "source": [
    "#Exemplo 6 \n",
    "\n",
    "def juntar_dicionarios(dic1, dic2):\n",
    "    novo_dic = dic1.copy()\n",
    "    for chave, valor in dic2.items():\n",
    "        novo_dic[chave] = novo_dic.get(chave, 0) + valor\n",
    "    return novo_dic\n",
    "\n",
    "dic1 = {'a':1, 'b':2}\n",
    "dic2 = {'b':3, 'c':4}\n",
    "\n",
    "print(juntar_dicionarios(dic1, dic2))"
   ]
  },
  {
   "cell_type": "code",
   "execution_count": null,
   "metadata": {},
   "outputs": [],
   "source": [
    "#Exemplo 7 \n",
    "\n",
    "\"Pregos\", 100\n",
    "\"Porcas\", 50\n",
    "\"Pregos\"\n"
   ]
  }
 ],
 "metadata": {
  "kernelspec": {
   "display_name": "Python 3",
   "language": "python",
   "name": "python3"
  },
  "language_info": {
   "codemirror_mode": {
    "name": "ipython",
    "version": 3
   },
   "file_extension": ".py",
   "mimetype": "text/x-python",
   "name": "python",
   "nbconvert_exporter": "python",
   "pygments_lexer": "ipython3",
   "version": "3.11.4"
  },
  "orig_nbformat": 4
 },
 "nbformat": 4,
 "nbformat_minor": 2
}
